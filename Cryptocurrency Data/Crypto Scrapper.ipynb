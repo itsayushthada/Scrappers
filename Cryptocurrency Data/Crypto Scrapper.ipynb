{
 "cells": [
  {
   "cell_type": "code",
   "execution_count": 1,
   "metadata": {},
   "outputs": [],
   "source": [
    "import pandas as pd\n",
    "import numpy as np\n",
    "import time\n",
    "import datetime"
   ]
  },
  {
   "cell_type": "code",
   "execution_count": 2,
   "metadata": {},
   "outputs": [],
   "source": [
    "def avilable_currencies():\n",
    "    url = \"https://coinmarketcap.com/coins/views/all/\"\n",
    "    a = pd.read_html(url)\n",
    "    currency_list = []\n",
    "    for i in range(a[0].shape[0]):\n",
    "        currency_list.append((a[0][\"Name\"].iloc[i].replace(a[0][\"Symbol\"].iloc[i]+\" \",\"\")).lower())\n",
    "    return currency_list"
   ]
  },
  {
   "cell_type": "code",
   "execution_count": 3,
   "metadata": {},
   "outputs": [],
   "source": [
    "y = avilable_currencies()"
   ]
  },
  {
   "cell_type": "code",
   "execution_count": 4,
   "metadata": {},
   "outputs": [],
   "source": [
    "def parse_time(date, date_format):\n",
    "    if date_format == \"DD/MM/YYYY\":\n",
    "        a = date.split(\"/\")\n",
    "        # convert into year-month-day\n",
    "        return (a[2]+a[1]+a[0])\n",
    "    \n",
    "    elif date_format == \"now\":\n",
    "        now = str(date)\n",
    "        now = now.split(\" \")\n",
    "        return(now[0].replace(\"-\",\"\"))"
   ]
  },
  {
   "cell_type": "code",
   "execution_count": 5,
   "metadata": {},
   "outputs": [],
   "source": [
    "def cryptodata(currency, start_date, end_date=\"\"):\n",
    "    currency_list = y\n",
    "    currency = currency.lower()\n",
    "    if currency in currency_list:\n",
    "        s_time = parse_time(start_date,\"DD/MM/YYYY\")\n",
    "        end_url = \"\"\n",
    "        if end_date == \"\":\n",
    "            e_time = parse_time(datetime.datetime.now(), \"now\")\n",
    "            end_url =\"&end=\" +str(e_time)\n",
    "   \n",
    "        url = \"https://coinmarketcap.com/currencies/\" +currency+ \"/historical-data/?start=\"+str(s_time)+end_url\n",
    "        print(url)\n",
    "        table_list = pd.read_html(url)\n",
    "        return table_list[0]\n",
    "    else:\n",
    "        print(\"No such Currency Found\\n\")"
   ]
  },
  {
   "cell_type": "code",
   "execution_count": null,
   "metadata": {},
   "outputs": [],
   "source": [
    "def datafile(filename, currency_list, start_date, end_date=\"\"):\n",
    "    writer = pd.ExcelWriter(filename + \".xls\")\n",
    "    for currency in currency_list:\n",
    "        x = cryptodata(currency, start_date, end_date)\n",
    "        x.to_excel(writer, sheet_name = currency)\n",
    "    writer.close()\n",
    "    print(\"File created in Directory\\n\")"
   ]
  },
  {
   "cell_type": "code",
   "execution_count": null,
   "metadata": {},
   "outputs": [
    {
     "name": "stdout",
     "output_type": "stream",
     "text": [
      "https://coinmarketcap.com/currencies/bitcoin/historical-data/?start=20100101&end=20180318\n",
      "https://coinmarketcap.com/currencies/ethereum/historical-data/?start=20100101&end=20180318\n",
      "https://coinmarketcap.com/currencies/litecoin/historical-data/?start=20100101&end=20180318\n",
      "https://coinmarketcap.com/currencies/ripple/historical-data/?start=20100101&end=20180318\n",
      "https://coinmarketcap.com/currencies/dash/historical-data/?start=20100101&end=20180318\n"
     ]
    }
   ],
   "source": [
    "curr = ['bitcoin','ethereum','litecoin','ripple','dash','zcash']\n",
    "datafile(\"Database\", curr, \"01/01/2010\")"
   ]
  },
  {
   "cell_type": "code",
   "execution_count": null,
   "metadata": {},
   "outputs": [],
   "source": []
  }
 ],
 "metadata": {
  "kernelspec": {
   "display_name": "Python 3",
   "language": "python",
   "name": "python3"
  },
  "language_info": {
   "codemirror_mode": {
    "name": "ipython",
    "version": 3
   },
   "file_extension": ".py",
   "mimetype": "text/x-python",
   "name": "python",
   "nbconvert_exporter": "python",
   "pygments_lexer": "ipython3",
   "version": "3.6.4"
  }
 },
 "nbformat": 4,
 "nbformat_minor": 2
}
